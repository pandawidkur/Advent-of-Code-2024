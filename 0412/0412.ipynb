{
 "cells": [
  {
   "cell_type": "code",
   "execution_count": 6,
   "metadata": {},
   "outputs": [
    {
     "name": "stdout",
     "output_type": "stream",
     "text": [
      "XMAS appear 2496 times\n"
     ]
    }
   ],
   "source": [
    "input_file = \"input.txt\"\n",
    "\n",
    "def count_word(grid, word):\n",
    "    rows = len(grid)\n",
    "    cols = len(grid[0])\n",
    "    word_len = len(word)\n",
    "    directions = [\n",
    "        (0, 1),  # Right\n",
    "        (1, 0),  # Down\n",
    "        (1, 1),  # Down-Right (Diagonal)\n",
    "        (1, -1), # Down-Left (Diagonal)\n",
    "        (0, -1), # Left\n",
    "        (-1, 0), # Up\n",
    "        (-1, -1),# Up-Left (Diagonal)\n",
    "        (-1, 1)  # Up-Right (Diagonal)\n",
    "    ]\n",
    "\n",
    "    def is_valid(x, y, dx, dy):\n",
    "        for i in range(word_len):\n",
    "            nx, ny = x + i * dx, y + i * dy\n",
    "            if not (0 <= nx < rows and 0 <= ny < cols) or grid[nx][ny] != word[i]:\n",
    "                return False\n",
    "        return True\n",
    "\n",
    "    count = 0\n",
    "    for x in range(rows):\n",
    "        for y in range(cols):\n",
    "            for dx, dy in directions:\n",
    "                if is_valid(x, y, dx, dy):\n",
    "                    count += 1\n",
    "    return count\n",
    "\n",
    "\n",
    "with open(input_file, \"r\") as file:\n",
    "    grid = [list(line.strip()) for line in file]\n",
    "\n",
    "word = \"XMAS\"\n",
    "result = count_word(grid, word)\n",
    "print(f\"{word} appear {result} times\" )  \n"
   ]
  },
  {
   "cell_type": "code",
   "execution_count": 45,
   "metadata": {},
   "outputs": [
    {
     "name": "stdout",
     "output_type": "stream",
     "text": [
      " X-MAS appears 1967 times\n"
     ]
    }
   ],
   "source": [
    "input_file = \"input.txt\"\n",
    "\n",
    "def find_xmas_sequences(grid):\n",
    "    rows = len(grid)\n",
    "    cols = len(grid[0])\n",
    "\n",
    "    \n",
    "    def find_diagonal_left():\n",
    "        left_indices = set()\n",
    "        for x in range(1, rows - 1):  \n",
    "            for y in range(1, cols - 1):\n",
    "                \n",
    "                if grid[x-1][y-1] == 'M' and grid[x][y] == 'A' and grid[x+1][y+1] == 'S':\n",
    "                    left_indices.add((x, y))\n",
    "                elif grid[x-1][y-1] == 'S' and grid[x][y] == 'A' and grid[x+1][y+1] == 'M':\n",
    "                    left_indices.add((x, y))\n",
    "        return left_indices\n",
    "\n",
    "    \n",
    "    def find_diagonal_right():\n",
    "        right_indices = set()\n",
    "        for x in range(1, rows - 1):  \n",
    "            for y in range(1, cols - 1):\n",
    "                \n",
    "                if grid[x-1][y+1] == 'M' and grid[x][y] == 'A' and grid[x+1][y-1] == 'S':\n",
    "                    right_indices.add((x, y))\n",
    "                elif grid[x-1][y+1] == 'S' and grid[x][y] == 'A' and grid[x+1][y-1] == 'M':\n",
    "                    right_indices.add((x, y))\n",
    "        return right_indices\n",
    "\n",
    "    \n",
    "    left_diagonal = find_diagonal_left()\n",
    "    right_diagonal = find_diagonal_right()\n",
    "\n",
    "    \n",
    "    common_indices = left_diagonal & right_diagonal\n",
    "    return len(common_indices)\n",
    "\n",
    "\n",
    "\n",
    "with open(input_file, \"r\") as file:\n",
    "    grid = [list(line.strip()) for line in file]\n",
    "\n",
    "\n",
    "result = find_xmas_sequences(grid)\n",
    "print(f\" X-MAS appears {result} times\")\n"
   ]
  }
 ],
 "metadata": {
  "kernelspec": {
   "display_name": "Python 3",
   "language": "python",
   "name": "python3"
  },
  "language_info": {
   "codemirror_mode": {
    "name": "ipython",
    "version": 3
   },
   "file_extension": ".py",
   "mimetype": "text/x-python",
   "name": "python",
   "nbconvert_exporter": "python",
   "pygments_lexer": "ipython3",
   "version": "3.11.7"
  }
 },
 "nbformat": 4,
 "nbformat_minor": 2
}
