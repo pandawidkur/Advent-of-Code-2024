{
 "cells": [
  {
   "cell_type": "code",
   "execution_count": null,
   "metadata": {},
   "outputs": [],
   "source": [
    "input_file = 'input.txt'\n",
    "\n",
    "def is_safe_report(report):\n",
    "    levels = list(map(int, report.split()))\n",
    "    differences = [levels[i+1] - levels[i] for i in range(len(levels) - 1)]\n",
    "    valid_differences = all(1 <= abs(diff) <= 3 for diff in differences)\n",
    "    \n",
    "    is_increasing = all(diff > 0 for diff in differences)\n",
    "    is_decreasing = all(diff < 0 for diff in differences)\n",
    "    \n",
    "    return valid_differences and (is_increasing or is_decreasing)\n",
    "\n",
    "def count_safe_reports(input_file):\n",
    "    try:\n",
    "        with open(input_file, 'r') as file:\n",
    "            data = file.readlines()\n",
    "        \n",
    "       \n",
    "        safe_reports = sum(1 for report in data if is_safe_report(report))\n",
    "        return safe_reports\n",
    "    \n",
    "    except FileNotFoundError:\n",
    "        print(f\"Plik '{input_file}' nie został znaleziony.\")\n",
    "        return 0\n",
    "    \n",
    "\n",
    "safe_reports = count_safe_reports(input_file)\n",
    "print(f\"{safe_reports} reports are safe\")"
   ]
  }
 ],
 "metadata": {
  "kernelspec": {
   "display_name": "Python 3",
   "language": "python",
   "name": "python3"
  },
  "language_info": {
   "codemirror_mode": {
    "name": "ipython",
    "version": 3
   },
   "file_extension": ".py",
   "mimetype": "text/x-python",
   "name": "python",
   "nbconvert_exporter": "python",
   "pygments_lexer": "ipython3",
   "version": "3.11.7"
  }
 },
 "nbformat": 4,
 "nbformat_minor": 2
}
