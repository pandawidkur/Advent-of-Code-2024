{
 "cells": [
  {
   "cell_type": "code",
   "execution_count": null,
   "metadata": {},
   "outputs": [
    {
     "name": "stdout",
     "output_type": "stream",
     "text": [
      "Sum of valid multiplications: 175615763\n",
      "Sum of valid multiplications with conditions: 74361272\n"
     ]
    }
   ],
   "source": [
    "import re\n",
    "filename = \"input.txt\"\n",
    "\n",
    "def sum_valid_multiplications_from_file(filename):\n",
    "    with open(filename, 'r') as file:\n",
    "        memory = file.read()\n",
    "    pattern = r\"mul\\((\\d{1,3}),(\\d{1,3})\\)\"\n",
    "    matches = re.findall(pattern, memory)\n",
    "    total = sum(int(x) * int(y) for x, y in matches)\n",
    "    return total\n",
    "\n",
    "result = sum_valid_multiplications_from_file(filename)\n",
    "print(\"Sum of valid multiplications:\", result)\n",
    "\n",
    "\n",
    "def sum_valid_multiplications_with_conditions(filename):\n",
    "    \n",
    "    with open(filename, 'r') as file:\n",
    "        memory = file.read()\n",
    "    \n",
    "    \n",
    "    mul_pattern = r\"mul\\((\\d{1,3}),(\\d{1,3})\\)\"\n",
    "    control_pattern = r\"(do\\(\\)|don't\\(\\))\"\n",
    "    \n",
    "    \n",
    "    combined_pattern = f\"{mul_pattern}|{control_pattern}\"\n",
    "    \n",
    "    \n",
    "    matches = re.finditer(combined_pattern, memory)\n",
    "    \n",
    "    enabled = True  \n",
    "    total = 0       \n",
    "\n",
    "    for match in matches:\n",
    "        if match.group(1) and match.group(2):  \n",
    "            if enabled:\n",
    "                x = int(match.group(1))\n",
    "                y = int(match.group(2))\n",
    "                total += x * y\n",
    "        elif match.group(3): \n",
    "            if match.group(3) == \"do()\":\n",
    "                enabled = True\n",
    "            elif match.group(3) == \"don't()\":\n",
    "                enabled = False\n",
    "\n",
    "    return total\n",
    "\n",
    "\n",
    "result = sum_valid_multiplications_with_conditions(filename)\n",
    "print(\"Sum of valid enabled  multiplications with conditions:\", result)\n"
   ]
  }
 ],
 "metadata": {
  "kernelspec": {
   "display_name": "Python 3",
   "language": "python",
   "name": "python3"
  },
  "language_info": {
   "codemirror_mode": {
    "name": "ipython",
    "version": 3
   },
   "file_extension": ".py",
   "mimetype": "text/x-python",
   "name": "python",
   "nbconvert_exporter": "python",
   "pygments_lexer": "ipython3",
   "version": "3.11.7"
  }
 },
 "nbformat": 4,
 "nbformat_minor": 2
}
