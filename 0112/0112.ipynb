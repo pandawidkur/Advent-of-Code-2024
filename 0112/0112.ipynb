{
 "cells": [
  {
   "cell_type": "code",
   "execution_count": 11,
   "metadata": {},
   "outputs": [
    {
     "name": "stdout",
     "output_type": "stream",
     "text": [
      "Total distance between lists is 2769675\n"
     ]
    },
    {
     "name": "stderr",
     "output_type": "stream",
     "text": [
      "C:\\Users\\panda\\AppData\\Local\\Temp\\ipykernel_11484\\119009318.py:2: ParserWarning: Falling back to the 'python' engine because the 'c' engine does not support regex separators (separators > 1 char and different from '\\s+' are interpreted as regex); you can avoid this warning by specifying engine='python'.\n",
      "  df = pd.read_csv('input.txt', delimiter='   ', header=None)\n"
     ]
    }
   ],
   "source": [
    "#import pandas as pd\n",
    "df = pd.read_csv('input.txt', delimiter='   ', header=None)\n",
    "df.columns = ['left' if i == 0 else 'right' for i in range(len(df.columns))]\n",
    "df = df.apply(sorted)\n",
    "df['diff'] = (df['left'] - df['right']).abs()\n",
    "df= df['diff'].sum()\n",
    "print(f\"Total distance between lists is {df}\")"
   ]
  },
  {
   "cell_type": "markdown",
   "metadata": {},
   "source": []
  }
 ],
 "metadata": {
  "kernelspec": {
   "display_name": "Python 3",
   "language": "python",
   "name": "python3"
  },
  "language_info": {
   "codemirror_mode": {
    "name": "ipython",
    "version": 3
   },
   "file_extension": ".py",
   "mimetype": "text/x-python",
   "name": "python",
   "nbconvert_exporter": "python",
   "pygments_lexer": "ipython3",
   "version": "3.11.7"
  }
 },
 "nbformat": 4,
 "nbformat_minor": 2
}
