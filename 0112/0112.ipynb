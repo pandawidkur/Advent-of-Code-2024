{
 "cells": [
  {
   "cell_type": "code",
   "execution_count": null,
   "metadata": {},
   "outputs": [],
   "source": [
    "import pandas as pd\n",
    "from collections import Counter"
   ]
  },
  {
   "cell_type": "code",
   "execution_count": null,
   "metadata": {},
   "outputs": [
    {
     "name": "stdout",
     "output_type": "stream",
     "text": [
      "Total distance between lists is 2769675\n",
      "2769675\n"
     ]
    },
    {
     "name": "stderr",
     "output_type": "stream",
     "text": [
      "C:\\Users\\panda\\AppData\\Local\\Temp\\ipykernel_10500\\1981720891.py:4: ParserWarning: Falling back to the 'python' engine because the 'c' engine does not support regex separators (separators > 1 char and different from '\\s+' are interpreted as regex); you can avoid this warning by specifying engine='python'.\n",
      "  df = pd.read_csv('input.txt', delimiter='   ', header=None)\n"
     ]
    }
   ],
   "source": [
    "#part1\n",
    "df = pd.read_csv('input.txt', delimiter='   ', header=None)\n",
    "df.columns = ['left' if i == 0 else 'right' for i in range(len(df.columns))]\n",
    "df = df.apply(sorted)\n",
    "df['diff'] = (df['left'] - df['right']).abs()\n",
    "df= df['diff'].sum()\n",
    "print(f\"Total distance between lists is {df}\")\n",
    "print(df)"
   ]
  },
  {
   "cell_type": "code",
   "execution_count": null,
   "metadata": {},
   "outputs": [
    {
     "name": "stdout",
     "output_type": "stream",
     "text": [
      "Similarity score is 24643097\n"
     ]
    },
    {
     "name": "stderr",
     "output_type": "stream",
     "text": [
      "C:\\Users\\panda\\AppData\\Local\\Temp\\ipykernel_10500\\2240625967.py:3: ParserWarning: Falling back to the 'python' engine because the 'c' engine does not support regex separators (separators > 1 char and different from '\\s+' are interpreted as regex); you can avoid this warning by specifying engine='python'.\n",
      "  df = pd.read_csv('input.txt', delimiter='   ', header=None)\n"
     ]
    }
   ],
   "source": [
    "#part2\n",
    "df = pd.read_csv('input.txt', delimiter='   ', header=None)\n",
    "df.columns = ['left' if i == 0 else 'right' for i in range(len(df.columns))]\n",
    "df = df.apply(sorted)\n",
    "left_list = df[\"left\"].tolist()\n",
    "right_list = df[\"right\"].tolist()\n",
    "right_counts = Counter(df[\"right\"])\n",
    "similarity_score = sum(number * right_counts.get(number, 0) for number in df[\"left\"])\n",
    "print(\"Similarity score is\", similarity_score)\n"
   ]
  },
  {
   "cell_type": "markdown",
   "metadata": {},
   "source": []
  },
  {
   "cell_type": "code",
   "execution_count": null,
   "metadata": {},
   "outputs": [],
   "source": []
  }
 ],
 "metadata": {
  "kernelspec": {
   "display_name": "Python 3",
   "language": "python",
   "name": "python3"
  },
  "language_info": {
   "codemirror_mode": {
    "name": "ipython",
    "version": 3
   },
   "file_extension": ".py",
   "mimetype": "text/x-python",
   "name": "python",
   "nbconvert_exporter": "python",
   "pygments_lexer": "ipython3",
   "version": "3.11.7"
  }
 },
 "nbformat": 4,
 "nbformat_minor": 2
}
